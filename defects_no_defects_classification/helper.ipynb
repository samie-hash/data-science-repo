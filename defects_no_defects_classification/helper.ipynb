{
 "cells": [
  {
   "cell_type": "code",
   "execution_count": 1,
   "id": "79152971",
   "metadata": {},
   "outputs": [],
   "source": [
    "import os\n",
    "import math\n",
    "import numpy as np\n",
    "import matplotlib.patches as patches\n",
    "import pandas as pd\n",
    "import matplotlib.pyplot as plt\n",
    "from tqdm import tqdm\n",
    "from tensorflow.keras.preprocessing.image import load_img, img_to_array, save_img\n",
    "import tensorflow as tf\n",
    "from sklearn.model_selection import train_test_split"
   ]
  },
  {
   "cell_type": "code",
   "execution_count": 2,
   "id": "94089c7f",
   "metadata": {},
   "outputs": [],
   "source": [
    "# Set up the directory paths\n",
    "class1_dir = 'data/raw/Class1/'\n",
    "class1_def_dir = 'data/raw/Class1_def/'\n",
    "\n",
    "class2_dir = 'data/raw/Class2/'\n",
    "class2_def_dir = 'data/raw/Class2_def/'\n",
    "\n",
    "class3_dir = 'data/raw/Class3/'\n",
    "class3_def_dir = 'data/raw/Class3_def/'\n",
    "\n",
    "class4_dir = 'data/raw/Class4/'\n",
    "class4_def_dir = 'data/raw/Class4_def/'\n",
    "\n",
    "class5_dir = 'data/raw/Class5/'\n",
    "class5_def_dir = 'data/raw/Class5_def/'\n",
    "\n",
    "class6_dir = 'data/raw/Class6/'\n",
    "class6_def_dir = 'data/raw/Class6_def/'"
   ]
  },
  {
   "cell_type": "code",
   "execution_count": 3,
   "id": "0ca1dc66",
   "metadata": {},
   "outputs": [],
   "source": [
    "# split the data into train and test data\n",
    "\n",
    "no_defects = []\n",
    "defects = []"
   ]
  },
  {
   "cell_type": "code",
   "execution_count": 4,
   "id": "5fd852d9",
   "metadata": {},
   "outputs": [],
   "source": [
    "def load_images(directory, category=None):\n",
    "    for filename in tqdm(os.listdir(directory)):\n",
    "        if filename.split('.')[1] == 'png':\n",
    "            img = load_img(directory + filename, color_mode='grayscale')   \n",
    "            if category == 'defects':\n",
    "                defects.append(img)\n",
    "            else:\n",
    "                no_defects.append(img)"
   ]
  },
  {
   "cell_type": "code",
   "execution_count": 5,
   "id": "4fc4c061",
   "metadata": {},
   "outputs": [
    {
     "name": "stderr",
     "output_type": "stream",
     "text": [
      "100%|████████████████████████████████████████████████████████████████████████████████| 300/300 [00:14<00:00, 21.12it/s]\n"
     ]
    }
   ],
   "source": [
    "load_images(class1_dir)"
   ]
  },
  {
   "cell_type": "code",
   "execution_count": 6,
   "id": "cd25e583",
   "metadata": {},
   "outputs": [
    {
     "name": "stderr",
     "output_type": "stream",
     "text": [
      "100%|████████████████████████████████████████████████████████████████████████████████| 300/300 [00:09<00:00, 32.51it/s]\n"
     ]
    }
   ],
   "source": [
    "load_images(class2_dir)"
   ]
  },
  {
   "cell_type": "code",
   "execution_count": 7,
   "id": "1de689c2",
   "metadata": {},
   "outputs": [
    {
     "name": "stderr",
     "output_type": "stream",
     "text": [
      "100%|████████████████████████████████████████████████████████████████████████████████| 300/300 [00:09<00:00, 30.03it/s]\n"
     ]
    }
   ],
   "source": [
    "load_images(class3_dir)"
   ]
  },
  {
   "cell_type": "code",
   "execution_count": 8,
   "id": "e7f57bc5",
   "metadata": {},
   "outputs": [
    {
     "name": "stderr",
     "output_type": "stream",
     "text": [
      "100%|████████████████████████████████████████████████████████████████████████████████| 300/300 [00:16<00:00, 18.42it/s]\n"
     ]
    }
   ],
   "source": [
    "load_images(class4_dir)"
   ]
  },
  {
   "cell_type": "code",
   "execution_count": 9,
   "id": "caa16661",
   "metadata": {},
   "outputs": [
    {
     "name": "stderr",
     "output_type": "stream",
     "text": [
      "100%|████████████████████████████████████████████████████████████████████████████████| 300/300 [00:05<00:00, 50.88it/s]\n"
     ]
    }
   ],
   "source": [
    "load_images(class5_dir)"
   ]
  },
  {
   "cell_type": "code",
   "execution_count": 10,
   "id": "82cb9a97",
   "metadata": {},
   "outputs": [
    {
     "name": "stderr",
     "output_type": "stream",
     "text": [
      "100%|████████████████████████████████████████████████████████████████████████████████| 300/300 [00:08<00:00, 35.35it/s]\n"
     ]
    }
   ],
   "source": [
    "load_images(class6_dir)"
   ]
  },
  {
   "cell_type": "code",
   "execution_count": 11,
   "id": "7e307bb3",
   "metadata": {},
   "outputs": [
    {
     "name": "stderr",
     "output_type": "stream",
     "text": [
      "100%|████████████████████████████████████████████████████████████████████████████████| 151/151 [00:07<00:00, 19.01it/s]\n"
     ]
    }
   ],
   "source": [
    "load_images(class1_def_dir, category='defects')"
   ]
  },
  {
   "cell_type": "code",
   "execution_count": 12,
   "id": "2239d50f",
   "metadata": {},
   "outputs": [
    {
     "name": "stderr",
     "output_type": "stream",
     "text": [
      "100%|████████████████████████████████████████████████████████████████████████████████| 151/151 [00:10<00:00, 14.44it/s]\n"
     ]
    }
   ],
   "source": [
    "load_images(class2_def_dir, category='defects')"
   ]
  },
  {
   "cell_type": "code",
   "execution_count": 13,
   "id": "d75eb35a",
   "metadata": {},
   "outputs": [
    {
     "name": "stderr",
     "output_type": "stream",
     "text": [
      "100%|████████████████████████████████████████████████████████████████████████████████| 151/151 [00:09<00:00, 16.02it/s]\n"
     ]
    }
   ],
   "source": [
    "load_images(class3_def_dir, category='defects')"
   ]
  },
  {
   "cell_type": "code",
   "execution_count": 14,
   "id": "1b2f6301",
   "metadata": {},
   "outputs": [
    {
     "name": "stderr",
     "output_type": "stream",
     "text": [
      "100%|████████████████████████████████████████████████████████████████████████████████| 151/151 [00:02<00:00, 72.95it/s]\n"
     ]
    }
   ],
   "source": [
    "load_images(class4_def_dir, category='defects')"
   ]
  },
  {
   "cell_type": "code",
   "execution_count": 15,
   "id": "1ca6ce09",
   "metadata": {},
   "outputs": [
    {
     "name": "stderr",
     "output_type": "stream",
     "text": [
      "100%|████████████████████████████████████████████████████████████████████████████████| 151/151 [00:06<00:00, 25.16it/s]\n"
     ]
    }
   ],
   "source": [
    "load_images(class5_def_dir, category='defects')"
   ]
  },
  {
   "cell_type": "code",
   "execution_count": 16,
   "id": "c9613daf",
   "metadata": {},
   "outputs": [
    {
     "name": "stderr",
     "output_type": "stream",
     "text": [
      "100%|████████████████████████████████████████████████████████████████████████████████| 151/151 [00:05<00:00, 27.81it/s]\n"
     ]
    }
   ],
   "source": [
    "load_images(class6_def_dir, category='defects')"
   ]
  },
  {
   "cell_type": "code",
   "execution_count": 17,
   "id": "ce606230",
   "metadata": {},
   "outputs": [],
   "source": [
    "train_defect, test_defect = train_test_split(defects, test_size=0.25)"
   ]
  },
  {
   "cell_type": "code",
   "execution_count": 18,
   "id": "db4dbe7b",
   "metadata": {},
   "outputs": [
    {
     "name": "stderr",
     "output_type": "stream",
     "text": [
      "100%|████████████████████████████████████████████████████████████████████████████████| 675/675 [01:12<00:00,  9.32it/s]\n"
     ]
    }
   ],
   "source": [
    "count = 1\n",
    "path = 'data/processed/train/defects'\n",
    "for img in tqdm(train_defect):\n",
    "    img = img_to_array(img)\n",
    "    save_img(f'{path}/{count}.png', img)\n",
    "    count += 1"
   ]
  },
  {
   "cell_type": "code",
   "execution_count": 19,
   "id": "7f682154",
   "metadata": {},
   "outputs": [
    {
     "name": "stderr",
     "output_type": "stream",
     "text": [
      "100%|████████████████████████████████████████████████████████████████████████████████| 225/225 [00:22<00:00, 10.11it/s]\n"
     ]
    }
   ],
   "source": [
    "count = 1\n",
    "path = 'data/processed/test/defects'\n",
    "for img in tqdm(test_defect):\n",
    "    img = img_to_array(img)\n",
    "    save_img(f'{path}/{count}.png', img)\n",
    "    count += 1"
   ]
  },
  {
   "cell_type": "code",
   "execution_count": 20,
   "id": "09a50005",
   "metadata": {},
   "outputs": [],
   "source": [
    "del defects\n",
    "del train_defect\n",
    "del test_defect"
   ]
  },
  {
   "cell_type": "code",
   "execution_count": 21,
   "id": "e1b93785",
   "metadata": {},
   "outputs": [],
   "source": [
    "train_no_defect, test_no_defect = train_test_split(no_defects, test_size=0.25)"
   ]
  },
  {
   "cell_type": "code",
   "execution_count": 22,
   "id": "52bdb106",
   "metadata": {},
   "outputs": [
    {
     "name": "stderr",
     "output_type": "stream",
     "text": [
      "100%|██████████████████████████████████████████████████████████████████████████████| 1350/1350 [01:31<00:00, 14.75it/s]\n"
     ]
    }
   ],
   "source": [
    "count = 1\n",
    "path = 'data/processed/train/no_defects'\n",
    "for img in tqdm(train_no_defect):\n",
    "    img = img_to_array(img)\n",
    "    save_img(f'{path}/{count}.png', img)\n",
    "    count += 1"
   ]
  },
  {
   "cell_type": "code",
   "execution_count": 23,
   "id": "17a78138",
   "metadata": {},
   "outputs": [
    {
     "name": "stderr",
     "output_type": "stream",
     "text": [
      "100%|████████████████████████████████████████████████████████████████████████████████| 450/450 [00:37<00:00, 12.12it/s]\n"
     ]
    }
   ],
   "source": [
    "count = 1\n",
    "path = 'data/processed/test/no_defects'\n",
    "for img in tqdm(test_no_defect):\n",
    "    img = img_to_array(img)\n",
    "    save_img(f'{path}/{count}.png', img)\n",
    "    count += 1"
   ]
  },
  {
   "cell_type": "code",
   "execution_count": 24,
   "id": "18d19c1e",
   "metadata": {},
   "outputs": [],
   "source": [
    "del no_defects\n",
    "del train_no_defect\n",
    "del test_no_defect"
   ]
  }
 ],
 "metadata": {
  "kernelspec": {
   "display_name": "Python 3 (ipykernel)",
   "language": "python",
   "name": "python3"
  },
  "language_info": {
   "codemirror_mode": {
    "name": "ipython",
    "version": 3
   },
   "file_extension": ".py",
   "mimetype": "text/x-python",
   "name": "python",
   "nbconvert_exporter": "python",
   "pygments_lexer": "ipython3",
   "version": "3.8.3"
  }
 },
 "nbformat": 4,
 "nbformat_minor": 5
}
